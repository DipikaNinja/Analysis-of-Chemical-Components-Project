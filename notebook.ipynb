{
 "cells": [
  {
   "cell_type": "markdown",
   "metadata": {
    "dc": {
     "key": "4"
    },
    "deletable": false,
    "editable": false,
    "run_control": {
     "frozen": true
    },
    "tags": [
     "context"
    ]
   },
   "source": [
    "## 1. Cosmetics, chemicals... it's complicated\n",
    "<p>Whenever I want to try a new cosmetic item, it's so difficult to choose. It's actually more than difficult. It's sometimes scary because new items that I've never tried end up giving me skin trouble. We know the information we need is on the back of each product, but it's really hard to interpret those ingredient lists unless you're a chemist. You may be able to relate to this situation.</p>\n",
    "<p><img src=\"https://assets.datacamp.com/production/project_695/img/image_1.png\" style=\"width:600px;height:400px;\"></p>\n",
    "<p>So instead of buying and hoping for the best, why don't we use data science to help us predict which products may be good fits for us? In this notebook, we are going to create a content-based recommendation system where the 'content' will be the chemical components of cosmetics. Specifically, we will process ingredient lists for 1472 cosmetics on Sephora via <a href=\"https://en.wikipedia.org/wiki/Word_embedding\">word embedding</a>, then visualize ingredient similarity using a machine learning method called t-SNE and an interactive visualization library called Bokeh. Let's inspect our data first.</p>"
   ]
  },
  {
   "cell_type": "code",
   "execution_count": 1,
   "metadata": {
    "dc": {
     "key": "4"
    }
   },
   "outputs": [
    {
     "data": {
      "text/html": [
       "<div>\n",
       "<style scoped>\n",
       "    .dataframe tbody tr th:only-of-type {\n",
       "        vertical-align: middle;\n",
       "    }\n",
       "\n",
       "    .dataframe tbody tr th {\n",
       "        vertical-align: top;\n",
       "    }\n",
       "\n",
       "    .dataframe thead th {\n",
       "        text-align: right;\n",
       "    }\n",
       "</style>\n",
       "<table border=\"1\" class=\"dataframe\">\n",
       "  <thead>\n",
       "    <tr style=\"text-align: right;\">\n",
       "      <th></th>\n",
       "      <th>Label</th>\n",
       "      <th>Brand</th>\n",
       "      <th>Name</th>\n",
       "      <th>Price</th>\n",
       "      <th>Rank</th>\n",
       "      <th>Ingredients</th>\n",
       "      <th>Combination</th>\n",
       "      <th>Dry</th>\n",
       "      <th>Normal</th>\n",
       "      <th>Oily</th>\n",
       "      <th>Sensitive</th>\n",
       "    </tr>\n",
       "  </thead>\n",
       "  <tbody>\n",
       "    <tr>\n",
       "      <th>208</th>\n",
       "      <td>Moisturizer</td>\n",
       "      <td>SK-II</td>\n",
       "      <td>Cellumination Cream EX</td>\n",
       "      <td>160</td>\n",
       "      <td>4.3</td>\n",
       "      <td>Water, Galactomyces Ferment Filtrate (Pitera),...</td>\n",
       "      <td>1</td>\n",
       "      <td>1</td>\n",
       "      <td>1</td>\n",
       "      <td>1</td>\n",
       "      <td>1</td>\n",
       "    </tr>\n",
       "    <tr>\n",
       "      <th>1019</th>\n",
       "      <td>Face Mask</td>\n",
       "      <td>TOO COOL FOR SCHOOL</td>\n",
       "      <td>Pumpkin 24K Gold Sheet Mask</td>\n",
       "      <td>8</td>\n",
       "      <td>3.6</td>\n",
       "      <td>Visit the Too Cool For School boutique</td>\n",
       "      <td>1</td>\n",
       "      <td>1</td>\n",
       "      <td>1</td>\n",
       "      <td>1</td>\n",
       "      <td>1</td>\n",
       "    </tr>\n",
       "    <tr>\n",
       "      <th>1470</th>\n",
       "      <td>Sun protect</td>\n",
       "      <td>ST. TROPEZ TANNING ESSENTIALS</td>\n",
       "      <td>Pro Light Self Tan Bronzing Mist</td>\n",
       "      <td>20</td>\n",
       "      <td>1.0</td>\n",
       "      <td>Water, Dihydroxyacetone, Propylene Glycol, PPG...</td>\n",
       "      <td>0</td>\n",
       "      <td>0</td>\n",
       "      <td>0</td>\n",
       "      <td>0</td>\n",
       "      <td>0</td>\n",
       "    </tr>\n",
       "    <tr>\n",
       "      <th>1412</th>\n",
       "      <td>Sun protect</td>\n",
       "      <td>CLINIQUE</td>\n",
       "      <td>Broad Spectrum SPF 30 Mineral Sunscreen Fluid ...</td>\n",
       "      <td>28</td>\n",
       "      <td>4.4</td>\n",
       "      <td>Titanium Dioxide 3.2% , Zinc Oxide 2.0%Water ,...</td>\n",
       "      <td>1</td>\n",
       "      <td>1</td>\n",
       "      <td>1</td>\n",
       "      <td>1</td>\n",
       "      <td>1</td>\n",
       "    </tr>\n",
       "    <tr>\n",
       "      <th>50</th>\n",
       "      <td>Moisturizer</td>\n",
       "      <td>CAUDALIE</td>\n",
       "      <td>Grape Water</td>\n",
       "      <td>10</td>\n",
       "      <td>4.5</td>\n",
       "      <td>Vitis Vinifera (Grape) Fruit Water*, Vitis Vin...</td>\n",
       "      <td>1</td>\n",
       "      <td>1</td>\n",
       "      <td>1</td>\n",
       "      <td>1</td>\n",
       "      <td>1</td>\n",
       "    </tr>\n",
       "  </tbody>\n",
       "</table>\n",
       "</div>"
      ],
      "text/plain": [
       "            Label                          Brand  \\\n",
       "208   Moisturizer                          SK-II   \n",
       "1019    Face Mask            TOO COOL FOR SCHOOL   \n",
       "1470  Sun protect  ST. TROPEZ TANNING ESSENTIALS   \n",
       "1412  Sun protect                       CLINIQUE   \n",
       "50    Moisturizer                       CAUDALIE   \n",
       "\n",
       "                                                   Name  Price  Rank  \\\n",
       "208                              Cellumination Cream EX    160   4.3   \n",
       "1019                        Pumpkin 24K Gold Sheet Mask      8   3.6   \n",
       "1470                   Pro Light Self Tan Bronzing Mist     20   1.0   \n",
       "1412  Broad Spectrum SPF 30 Mineral Sunscreen Fluid ...     28   4.4   \n",
       "50                                          Grape Water     10   4.5   \n",
       "\n",
       "                                            Ingredients  Combination  Dry  \\\n",
       "208   Water, Galactomyces Ferment Filtrate (Pitera),...            1    1   \n",
       "1019             Visit the Too Cool For School boutique            1    1   \n",
       "1470  Water, Dihydroxyacetone, Propylene Glycol, PPG...            0    0   \n",
       "1412  Titanium Dioxide 3.2% , Zinc Oxide 2.0%Water ,...            1    1   \n",
       "50    Vitis Vinifera (Grape) Fruit Water*, Vitis Vin...            1    1   \n",
       "\n",
       "      Normal  Oily  Sensitive  \n",
       "208        1     1          1  \n",
       "1019       1     1          1  \n",
       "1470       0     0          0  \n",
       "1412       1     1          1  \n",
       "50         1     1          1  "
      ]
     },
     "metadata": {},
     "output_type": "display_data"
    },
    {
     "data": {
      "text/plain": [
       "Label\n",
       "Moisturizer    298\n",
       "Cleanser       281\n",
       "Face Mask      266\n",
       "Treatment      248\n",
       "Eye cream      209\n",
       "Sun protect    170\n",
       "Name: count, dtype: int64"
      ]
     },
     "execution_count": 1,
     "metadata": {},
     "output_type": "execute_result"
    }
   ],
   "source": [
    "import pandas as pd\n",
    "import numpy as np\n",
    "from sklearn.manifold import TSNE\n",
    "# Load the dataset into a pandas DataFrame\n",
    "df = pd.read_excel(r\"C:\\Users\\DipiKA\\OneDrive\\Desktop\\MedTourEasy\\Cosmetics.xlsx\")\n",
    "# Display a sample of five rows\n",
    "display(df.sample(5))\n",
    "\n",
    "# Display counts of product types\n",
    "df[\"Label\"].value_counts()"
   ]
  },
  {
   "cell_type": "markdown",
   "metadata": {
    "dc": {
     "key": "12"
    },
    "deletable": false,
    "editable": false,
    "run_control": {
     "frozen": true
    },
    "tags": [
     "context"
    ]
   },
   "source": [
    "## 2. Focus on one product category and one skin type\n",
    "<p>There are six categories of product in our data (<strong><em>moisturizers, cleansers, face masks, eye creams</em></strong>, and <strong><em>sun protection</em></strong>) and there are five different skin types (<strong><em>combination, dry, normal, oily</em></strong> and <strong><em>sensitive</em></strong>). Because individuals have different product needs as well as different skin types, let's set up our workflow so its outputs (a t-SNE model and a visualization of that model) can be customized. For the example in this notebook, let's focus in on moisturizers for those with dry skin by filtering the data accordingly.</p>"
   ]
  },
  {
   "cell_type": "code",
   "execution_count": 3,
   "metadata": {
    "dc": {
     "key": "12"
    },
    "tags": [
     "sample_code"
    ]
   },
   "outputs": [],
   "source": [
    "# Filter for \"Moisturizer\" in the Label column\n",
    "moisturizers = df[df[\"Label\"] == \"Moisturizer\"]\n",
    "\n",
    "# Further filter for products suitable for dry skin\n",
    "moisturizers_dry = moisturizers[moisturizers[\"Dry\"] == 1]\n",
    "\n",
    "# Reset the index\n",
    "moisturizers_dry = moisturizers_dry.reset_index(drop=True)"
   ]
  },
  {
   "cell_type": "markdown",
   "metadata": {
    "dc": {
     "key": "19"
    },
    "deletable": false,
    "editable": false,
    "run_control": {
     "frozen": true
    },
    "tags": [
     "context"
    ]
   },
   "source": [
    "## 3. Tokenizing the ingredients\n",
    "<p>To get to our end goal of comparing ingredients in each product, we first need to do some preprocessing tasks and bookkeeping of the actual words in each product's ingredients list. The first step will be tokenizing the list of ingredients in <code>Ingredients</code> column. After splitting them into tokens, we'll make a binary bag of words. Then we will create a dictionary with the tokens, <code>ingredient_idx</code>, which will have the following format:</p>\n",
    "<p>{ <strong><em>\"ingredient\"</em></strong>: index value, … }</p>"
   ]
  },
  {
   "cell_type": "code",
   "execution_count": 4,
   "metadata": {
    "dc": {
     "key": "19"
    },
    "tags": [
     "sample_code"
    ]
   },
   "outputs": [
    {
     "name": "stdout",
     "output_type": "stream",
     "text": [
      "The index for decyl oleate is 25\n"
     ]
    }
   ],
   "source": [
    "# Initialize dictionary, list, and initial index\n",
    "ingredient_idx = {}\n",
    "corpus = []\n",
    "idx = 0\n",
    "\n",
    "# For loop for tokenization\n",
    "for i in range(len(moisturizers_dry)):\n",
    "    ingredients = str(moisturizers_dry['Ingredients'].iloc[i])  # Convert to string\n",
    "    ingredients = ingredients.lower().strip()  # Convert to lowercase and remove spaces\n",
    "\n",
    "    if ingredients:  # Check if ingredients is not an empty string\n",
    "        tokens = ingredients.split(', ')\n",
    "        corpus.append(tokens)\n",
    "        \n",
    "        for ingredient in tokens:\n",
    "            if ingredient not in ingredient_idx:\n",
    "                ingredient_idx[ingredient] = idx\n",
    "                idx += 1\n",
    "\n",
    "# Check the result \n",
    "print(\"The index for decyl oleate is\", ingredient_idx.get('decyl oleate', \"Not Found\"))\n"
   ]
  },
  {
   "cell_type": "markdown",
   "metadata": {
    "dc": {
     "key": "26"
    },
    "deletable": false,
    "editable": false,
    "run_control": {
     "frozen": true
    },
    "tags": [
     "context"
    ]
   },
   "source": [
    "## 4. Initializing a document-term matrix (DTM)\n",
    "<p>The next step is making a document-term matrix (DTM). Here each cosmetic product will correspond to a document, and each chemical composition will correspond to a term. This means we can think of the matrix as a <em>“cosmetic-ingredient”</em> matrix. The size of the matrix should be as the picture shown below.\n",
    "<img src=\"https://assets.datacamp.com/production/project_695/img/image_2.PNG\" style=\"width:600px;height:250px;\">\n",
    "To create this matrix, we'll first make an empty matrix filled with zeros. The length of the matrix is the total number of cosmetic products in the data. The width of the matrix is the total number of ingredients. After initializing this empty matrix, we'll fill it in the following tasks. </p>"
   ]
  },
  {
   "cell_type": "code",
   "execution_count": 5,
   "metadata": {
    "dc": {
     "key": "26"
    },
    "tags": [
     "sample_code"
    ]
   },
   "outputs": [],
   "source": [
    "M = len(moisturizers_dry)  # Number of products\n",
    "N = len(ingredient_idx)  # Number of unique ingredients\n",
    "A = np.zeros((M, N))  # Create matrix"
   ]
  },
  {
   "cell_type": "markdown",
   "metadata": {
    "dc": {
     "key": "33"
    },
    "deletable": false,
    "editable": false,
    "run_control": {
     "frozen": true
    },
    "tags": [
     "context"
    ]
   },
   "source": [
    "## 5. Creating a counter function\n",
    "<p>Before we can fill the matrix, let's create a function to count the tokens (i.e., an ingredients list) for each row. Our end goal is to fill the matrix with 1 or 0: if an ingredient is in a cosmetic, the value is 1. If not, it remains 0. The name of this function, <code>oh_encoder</code>, will become clear next.</p>"
   ]
  },
  {
   "cell_type": "code",
   "execution_count": 6,
   "metadata": {
    "dc": {
     "key": "33"
    },
    "tags": [
     "sample_code"
    ]
   },
   "outputs": [],
   "source": [
    "def oh_encoder(ingredients_list):\n",
    "    x = np.zeros(N)\n",
    "    for ingredient in ingredients_list:\n",
    "        if ingredient in ingredient_idx:\n",
    "            x[ingredient_idx[ingredient]] = 1\n",
    "    return x"
   ]
  },
  {
   "cell_type": "markdown",
   "metadata": {
    "dc": {
     "key": "40"
    },
    "deletable": false,
    "editable": false,
    "run_control": {
     "frozen": true
    },
    "tags": [
     "context"
    ]
   },
   "source": [
    "## 6. The Cosmetic-Ingredient matrix!\n",
    "<p>Now we'll apply the <code>oh_encoder()</code> functon to the tokens in <code>corpus</code> and set the values at each row of this matrix. So the result will tell us what ingredients each item is composed of. For example, if a cosmetic item contains <em>water, niacin, decyl aleate</em> and <em>sh-polypeptide-1</em>, the outcome of this item will be as follows. \n",
    "<img src=\"https://assets.datacamp.com/production/project_695/img/image_3.PNG\" style=\"width:800px;height:400px;\">\n",
    "This is what we called one-hot encoding. By encoding each ingredient in the items, the <em>Cosmetic-Ingredient</em> matrix will be filled with binary values. </p>"
   ]
  },
  {
   "cell_type": "code",
   "execution_count": 7,
   "metadata": {
    "dc": {
     "key": "40"
    },
    "tags": [
     "sample_code"
    ]
   },
   "outputs": [],
   "source": [
    "for i, tokens in enumerate(corpus):\n",
    "    A[i] = oh_encoder(tokens)"
   ]
  },
  {
   "cell_type": "markdown",
   "metadata": {
    "dc": {
     "key": "47"
    },
    "deletable": false,
    "editable": false,
    "run_control": {
     "frozen": true
    },
    "tags": [
     "context"
    ]
   },
   "source": [
    "## 7. Dimension reduction with t-SNE\n",
    "<p>The dimensions of the existing matrix is (190, 2233), which means there are 2233 features in our data. For visualization, we should downsize this into two dimensions. We'll use t-SNE for reducing the dimension of the data here.</p>\n",
    "<p><strong><a href=\"https://en.wikipedia.org/wiki/T-distributed_stochastic_neighbor_embedding\">T-distributed Stochastic Neighbor Embedding (t-SNE)</a></strong> is a nonlinear dimensionality reduction technique that is well-suited for embedding high-dimensional data for visualization in a low-dimensional space of two or three dimensions. Specifically, this technique can reduce the dimension of data while keeping the similarities between the instances. This enables us to make a plot on the coordinate plane, which can be said as vectorizing. All of these cosmetic items in our data will be vectorized into two-dimensional coordinates, and the distances between the points will indicate the similarities between the items. </p>"
   ]
  },
  {
   "cell_type": "code",
   "execution_count": 8,
   "metadata": {
    "dc": {
     "key": "47"
    }
   },
   "outputs": [],
   "source": [
    "from sklearn.decomposition import PCA\n",
    "\n",
    "# Apply PCA before t-SNE\n",
    "pca = PCA(n_components=50, random_state=42)\n",
    "A_pca = pca.fit_transform(A)\n",
    "\n",
    "# Apply t-SNE\n",
    "model = TSNE(n_components=2, learning_rate=200, perplexity=30, random_state=42)\n",
    "tsne_features = model.fit_transform(A_pca)\n",
    "\n",
    "moisturizers_dry[\"X\"] = tsne_features[:, 0]\n",
    "moisturizers_dry[\"Y\"] = tsne_features[:, 1]"
   ]
  },
  {
   "cell_type": "markdown",
   "metadata": {
    "dc": {
     "key": "55"
    },
    "deletable": false,
    "editable": false,
    "run_control": {
     "frozen": true
    },
    "tags": [
     "context"
    ]
   },
   "source": [
    "## 8. Let's map the items with Bokeh\n",
    "<p>We are now ready to start creating our plot. With the t-SNE values, we can plot all our items on the coordinate plane. And the coolest part here is that it will also show us the name, the brand, the price and the rank of each item. Let's make a scatter plot using Bokeh and add a hover tool to show that information. Note that we won't display the plot yet as we will make some more additions to it.</p>"
   ]
  },
  {
   "cell_type": "code",
   "execution_count": 11,
   "metadata": {
    "dc": {
     "key": "55"
    }
   },
   "outputs": [],
   "source": [
    "from bokeh.plotting import figure, show\n",
    "from bokeh.models import ColumnDataSource\n",
    "\n",
    "source = ColumnDataSource(moisturizers_dry)\n",
    "plot = figure(title=\"t-SNE Visualization of Moisturizers for Dry Skin\", x_axis_label=\"T-SNE 1\", y_axis_label=\"T-SNE 2\", width=800, height=600)\n",
    "plot.scatter(x=\"X\", y=\"Y\", source=source, size=10, color = '#FF7373', alpha=0.8)\n",
    "show(plot)"
   ]
  },
  {
   "cell_type": "markdown",
   "metadata": {
    "dc": {
     "key": "62"
    },
    "deletable": false,
    "editable": false,
    "run_control": {
     "frozen": true
    },
    "tags": [
     "context"
    ]
   },
   "source": [
    "## 9. Adding a hover tool\n",
    "<p>Why don't we add a hover tool? Adding a hover tool allows us to check the information of each item whenever the cursor is directly over a glyph. We'll add tooltips with each product's name, brand, price, and rank (i.e., rating).</p>"
   ]
  },
  {
   "cell_type": "code",
   "execution_count": 12,
   "metadata": {
    "dc": {
     "key": "62"
    }
   },
   "outputs": [],
   "source": [
    "from bokeh.models import HoverTool\n",
    "\n",
    "hover = HoverTool(tooltips=[(\"Item\", \"@Name\"), (\"Brand\", \"@Brand\"), (\"Price\", \"$@Price\"), (\"Rank\", \"@Rank\")])\n",
    "plot.add_tools(hover)\n",
    "show(plot)"
   ]
  },
  {
   "cell_type": "markdown",
   "metadata": {
    "dc": {
     "key": "69"
    },
    "deletable": false,
    "editable": false,
    "run_control": {
     "frozen": true
    },
    "tags": [
     "context"
    ]
   },
   "source": [
    "## 10. Mapping the cosmetic items\n",
    "<p>Finally, it's show time! Let's see how the map we've made looks like. Each point on the plot corresponds to the cosmetic items. Then what do the axes mean here? The axes of a t-SNE plot aren't easily interpretable in terms of the original data. Like mentioned above, t-SNE is a visualizing technique to plot high-dimensional data in a low-dimensional space. Therefore, it's not desirable to interpret a t-SNE plot quantitatively.</p>\n",
    "<p>Instead, what we can get from this map is the distance between the points (which items are close and which are far apart). The closer the distance between the two items is, the more similar the composition they have. Therefore this enables us to compare the items without having any chemistry background.</p>"
   ]
  },
  {
   "cell_type": "code",
   "execution_count": 13,
   "metadata": {
    "dc": {
     "key": "69"
    },
    "tags": [
     "sample_code"
    ]
   },
   "outputs": [],
   "source": [
    "# Plot the map\n",
    "# ... YOUR CODE FOR TASK 10 ...\n",
    "show(plot)"
   ]
  },
  {
   "cell_type": "markdown",
   "metadata": {
    "dc": {
     "key": "76"
    },
    "deletable": false,
    "editable": false,
    "run_control": {
     "frozen": true
    },
    "tags": [
     "context"
    ]
   },
   "source": [
    "## 11. Comparing two products\n",
    "<p>Since there are so many cosmetics and so many ingredients, the plot doesn't have many super obvious patterns that simpler t-SNE plots can have (<a href=\"https://campus.datacamp.com/courses/unsupervised-learning-in-python/visualization-with-hierarchical-clustering-and-t-sne?ex=10\">example</a>). Our plot requires some digging to find insights, but that's okay!</p>\n",
    "<p>Say we enjoyed a specific product, there's an increased chance we'd enjoy another product that is similar in chemical composition.  Say we enjoyed AmorePacific's <a href=\"https://www.sephora.com/product/color-control-cushion-compact-broad-spectrum-spf-50-P378121\">Color Control Cushion Compact Broad Spectrum SPF 50+</a>. We could find this product on the plot and see if a similar product(s) exist. And it turns out it does! If we look at the points furthest left on the plot, we see  LANEIGE's <a href=\"https://www.sephora.com/product/bb-cushion-hydra-radiance-P420676\">BB Cushion Hydra Radiance SPF 50</a> essentially overlaps with the AmorePacific product. By looking at the ingredients, we can visually confirm the compositions of the products are similar (<em>though it is difficult to do, which is why we did this analysis in the first place!</em>), plus LANEIGE's version is $22 cheaper and actually has higher ratings.</p>\n",
    "<p>It's not perfect, but it's useful. In real life, we can actually use our little ingredient-based recommendation engine help us make educated cosmetic purchase choices.</p>"
   ]
  },
  {
   "cell_type": "code",
   "execution_count": 14,
   "metadata": {
    "dc": {
     "key": "76"
    }
   },
   "outputs": [
    {
     "name": "stdout",
     "output_type": "stream",
     "text": [
      "Product 1: Crème de la Mer\n",
      "Ingredients: Algae (Seaweed) Extract, Mineral Oil, Petrolatum, Glycerin, Isohexadecane, Microcrystalline Wax, Lanolin Alcohol, Citrus Aurantifolia (Lime) Extract, Sesamum Indicum (Sesame) Seed Oil, Eucalyptus Globulus (Eucalyptus) Leaf Oil, Sesamum Indicum (Sesame) Seed Powder, Medicago Sativa (Alfalfa) Seed Powder, Helianthus Annuus (Sunflower) Seedcake, Prunus Amygdalus Dulcis (Sweet Almond) Seed Meal, Sodium Gluconate, Copper Gluconate, Calcium Gluconate, Magnesium Gluconate, Zinc Gluconate, Magnesium Sulfate, Paraffin, Tocopheryl Succinate, Niacin, Water, Beta-Carotene, Decyl Oleate, Aluminum Distearate, Octyldodecanol, Citric Acid, Cyanocobalamin, Magnesium Stearate, Panthenol, Limonene, Geraniol, Linalool, Hydroxycitronellal, Citronellol, Benzyl Salicylate, Citral, Sodium Benzoate, Alcohol Denat., Fragrance.\n",
      "\n",
      "Product 2: Facial Treatment Essence\n",
      "Ingredients: Galactomyces Ferment Filtrate (Pitera), Butylene Glycol, Pentylene Glycol, Water, Sodium Benzoate, Methylparaben, Sorbic Acid.\n"
     ]
    }
   ],
   "source": [
    "# Select two similar products\n",
    "product1 = moisturizers_dry.iloc[0]\n",
    "product2 = moisturizers_dry.iloc[1]\n",
    "\n",
    "# Print details\n",
    "print(\"Product 1:\", product1[\"Name\"])\n",
    "print(\"Ingredients:\", product1[\"Ingredients\"])\n",
    "print(\"\\nProduct 2:\", product2[\"Name\"])\n",
    "print(\"Ingredients:\", product2[\"Ingredients\"])"
   ]
  }
 ],
 "metadata": {
  "kernelspec": {
   "display_name": "Python 3 (ipykernel)",
   "language": "python",
   "name": "python3"
  },
  "language_info": {
   "codemirror_mode": {
    "name": "ipython",
    "version": 3
   },
   "file_extension": ".py",
   "mimetype": "text/x-python",
   "name": "python",
   "nbconvert_exporter": "python",
   "pygments_lexer": "ipython3",
   "version": "3.12.7"
  }
 },
 "nbformat": 4,
 "nbformat_minor": 4
}
